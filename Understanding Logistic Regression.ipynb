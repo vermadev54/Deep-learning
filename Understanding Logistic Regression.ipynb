{
  "nbformat": 4,
  "nbformat_minor": 0,
  "metadata": {
    "colab": {
      "name": "Untitled1.ipynb",
      "version": "0.3.2",
      "provenance": [],
      "include_colab_link": true
    },
    "kernelspec": {
      "name": "python3",
      "display_name": "Python 3"
    }
  },
  "cells": [
    {
      "cell_type": "markdown",
      "metadata": {
        "id": "view-in-github",
        "colab_type": "text"
      },
      "source": [
        "<a href=\"https://colab.research.google.com/github/vermadev54/Machine-learning-basic-algorithm/blob/master/Understanding%20Logistic%20Regression.ipynb\" target=\"_parent\"><img src=\"https://colab.research.google.com/assets/colab-badge.svg\" alt=\"Open In Colab\"/></a>"
      ]
    },
    {
      "metadata": {
        "id": "TW2ol9GmhD9S",
        "colab_type": "text"
      },
      "cell_type": "markdown",
      "source": [
        "# **Understanding Logistic Regression**\n",
        "# Pre-requisite: **`Linear Regression`**\n",
        "\n",
        "This article discusses the basics of Logistic Regression and its implementation in Python. Logistic regression is basically a supervised classification algorithm. In a classification problem, the target variable(or output), y, can take only discrete values for given set of features(or inputs), X.\n",
        "We can also say that the target variable is categorical. Based on the number of categories, Logistic regression can be classified as:\n",
        "\n",
        "\n",
        "\n",
        "1.   ***binomial:*** target variable can have only 2 possible types: “0” or “1” which may represent “win” vs “loss”, “pass” vs “fail”, “dead” vs “alive”, etc.\n",
        "2.   ***multinomial***: target variable can have 3 or more possible types which are not ordered(i.e. types have no quantitative significance) like “disease A” vs “disease B” vs “disease C”.\n",
        "3. ***ordinal***: it deals with target variables with ordered categories. For example, a test score can be categorized as:“very poor”, “poor”, “good”, “very good”. Here, each category can be given a score like 0, 1, 2, 3.\n",
        "First of all, we explore the simplest form of Logistic Regression, i.e Binomial Logistic Regression.\n",
        "\n",
        "**Binomial Logistic Regression**\n",
        "\n",
        "Consider an example dataset which maps the number of hours of study with the result of an exam. The result can take only two values, namely passed(1) or failed(0):"
      ]
    }
  ]
}