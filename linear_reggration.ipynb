{
  "nbformat": 4,
  "nbformat_minor": 0,
  "metadata": {
    "colab": {
      "name": "linear_reggration.ipynb",
      "version": "0.3.2",
      "provenance": [],
      "collapsed_sections": [],
      "include_colab_link": true
    },
    "kernelspec": {
      "name": "python3",
      "display_name": "Python 3"
    }
  },
  "cells": [
    {
      "cell_type": "markdown",
      "metadata": {
        "id": "view-in-github",
        "colab_type": "text"
      },
      "source": [
        "<a href=\"https://colab.research.google.com/github/vermadev54/Deep-learning/blob/master/linear_reggration.ipynb\" target=\"_parent\"><img src=\"https://colab.research.google.com/assets/colab-badge.svg\" alt=\"Open In Colab\"/></a>"
      ]
    },
    {
      "metadata": {
        "id": "a30I8tVt0t7Z",
        "colab_type": "text"
      },
      "cell_type": "markdown",
      "source": [
        "# `Simple Linear Regressio`n\n",
        "\n",
        "Simple linear regression is an approach for predicting a response using a single feature.\n",
        "\n",
        "*   It is assumed that the two variables are linearly related. Hence, we try to find a linear function that predicts the response value(y) as accurately as possible as a function of the feature or independent variable(x).\n",
        "*   Let us consider a dataset where we have a value of response y for every feature x:\n",
        "\n",
        "![alt text](https://cdncontribute.geeksforgeeks.org/wp-content/uploads/python-linear-regression.png)\n",
        "\n",
        "For generality, we define:\n",
        "\n",
        "x as feature vector, i.e x = [x_1, x_2, …., x_n],\n",
        "\n",
        "y as response vector, i.e y = [y_1, y_2, …., y_n]\n",
        "\n",
        "for n observations (in above example, n=10).\n",
        "\n",
        "A scatter plot of above dataset looks like:-\n",
        "\n",
        "![alt text](https://cdncontribute.geeksforgeeks.org/wp-content/uploads/python-linear-regression-1.png)\n",
        "\n",
        "Now, the task is to find a line which **fits best** in above scatter plot so that we can predict the response for any new feature values. (i.e a value of x not present in dataset)\n",
        "\n",
        "This line is called **regression line**.\n",
        "\n",
        "The equation of regression line is represented as:\n",
        "\n",
        "![alt text](https://www.geeksforgeeks.org/wp-content/ql-cache/quicklatex.com-41f1da8f1b6e63d6b8ab96507bc7d397_l3.svg)\n",
        "\n",
        "Here,\n",
        "\n",
        "\n",
        "*   h(x_i) represents the **predicted response value** for ith observation\n",
        "*  b_0 and b_1 are regression coefficients and represent** y-intercept** and **slope of regression** line respectively.  \n",
        "\n",
        "To create our model, we must “learn” or estimate the values of regression coefficients b_0 and b_1. And once we’ve estimated these coefficients, we can use the model to predict responses!\n",
        "\n",
        "\n",
        "\n",
        "In this article, we are going to use the **Least Squares technique**.\n",
        "\n",
        "Now consider:\n",
        "![alt text](https://www.geeksforgeeks.org/wp-content/ql-cache/quicklatex.com-b20bdf42da0d5e26573d27860fd54d00_l3.svg)\n",
        "\n",
        "\n"
      ]
    }
  ]
}