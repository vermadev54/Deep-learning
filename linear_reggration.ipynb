{
  "nbformat": 4,
  "nbformat_minor": 0,
  "metadata": {
    "colab": {
      "name": "linearreggration.ipynb",
      "version": "0.3.2",
      "provenance": [],
      "collapsed_sections": [],
      "include_colab_link": true
    },
    "kernelspec": {
      "name": "python3",
      "display_name": "Python 3"
    }
  },
  "cells": [
    {
      "cell_type": "markdown",
      "metadata": {
        "id": "view-in-github",
        "colab_type": "text"
      },
      "source": [
        "<a href=\"https://colab.research.google.com/github/vermadev54/Deep-learning/blob/master/linear_reggration.ipynb\" target=\"_parent\"><img src=\"https://colab.research.google.com/assets/colab-badge.svg\" alt=\"Open In Colab\"/></a>"
      ]
    },
    {
      "metadata": {
        "id": "a30I8tVt0t7Z",
        "colab_type": "text"
      },
      "cell_type": "markdown",
      "source": [
        "# `Simple Linear Regressio`n\n",
        "\n",
        "Simple linear regression is an approach for predicting a response using a single feature.\n",
        "\n",
        "*   It is assumed that the two variables are linearly related. Hence, we try to find a linear function that predicts the response value(y) as accurately as possible as a function of the feature or independent variable(x).\n",
        "*   Let us consider a dataset where we have a value of response y for every feature x:\n",
        "\n",
        "![alt text](https://cdncontribute.geeksforgeeks.org/wp-content/uploads/python-linear-regression.png)\n",
        "\n",
        "For generality, we define:\n",
        "\n",
        "x as feature vector, i.e x = [x_1, x_2, …., x_n],\n",
        "\n",
        "y as response vector, i.e y = [y_1, y_2, …., y_n]\n",
        "\n",
        "for n observations (in above example, n=10).\n",
        "\n",
        "A scatter plot of above dataset looks like:-\n",
        "\n",
        "![alt text](https://cdncontribute.geeksforgeeks.org/wp-content/uploads/python-linear-regression-1.png)\n",
        "\n",
        "\n",
        "\n",
        "\n",
        "\n",
        "\n",
        "\n"
      ]
    }
  ]
}