{
  "nbformat": 4,
  "nbformat_minor": 0,
  "metadata": {
    "colab": {
      "name": "linear_reggration.ipynb",
      "version": "0.3.2",
      "provenance": [],
      "collapsed_sections": [],
      "include_colab_link": true
    },
    "kernelspec": {
      "name": "python3",
      "display_name": "Python 3"
    }
  },
  "cells": [
    {
      "cell_type": "markdown",
      "metadata": {
        "id": "view-in-github",
        "colab_type": "text"
      },
      "source": [
        "<a href=\"https://colab.research.google.com/github/vermadev54/Machine-learning-basic-algorithm/blob/master/Linear%20Regression.ipynb\" target=\"_parent\"><img src=\"https://colab.research.google.com/assets/colab-badge.svg\" alt=\"Open In Colab\"/></a>"
      ]
    },
    {
      "metadata": {
        "id": "a30I8tVt0t7Z",
        "colab_type": "text"
      },
      "cell_type": "markdown",
      "source": [
        "# `Simple Linear Regressio`n\n",
        "\n",
        "Simple linear regression is an approach for predicting a response using a single feature.\n",
        "\n",
        "*   It is assumed that the two variables are linearly related. Hence, we try to find a linear function that predicts the response value(y) as accurately as possible as a function of the feature or independent variable(x).\n",
        "*   Let us consider a dataset where we have a value of response y for every feature x:\n",
        "\n",
        "![alt text](https://cdncontribute.geeksforgeeks.org/wp-content/uploads/python-linear-regression.png)\n",
        "\n",
        "For generality, we define:\n",
        "\n",
        "x as feature vector, i.e x = [x_1, x_2, …., x_n],\n",
        "\n",
        "y as response vector, i.e y = [y_1, y_2, …., y_n]\n",
        "\n",
        "for n observations (in above example, n=10).\n",
        "\n",
        "A scatter plot of above dataset looks like:-\n",
        "\n",
        "![alt text](https://cdncontribute.geeksforgeeks.org/wp-content/uploads/python-linear-regression-1.png)\n",
        "\n",
        "Now, the task is to find a line which **fits best** in above scatter plot so that we can predict the response for any new feature values. (i.e a value of x not present in dataset)\n",
        "\n",
        "This line is called **regression line**.\n",
        "\n",
        "The equation of regression line is represented as:\n",
        "\n",
        "![alt text](https://www.geeksforgeeks.org/wp-content/ql-cache/quicklatex.com-41f1da8f1b6e63d6b8ab96507bc7d397_l3.svg)\n",
        "\n",
        "Here,\n",
        "\n",
        "\n",
        "*   h(x_i) represents the **predicted response value** for ith observation\n",
        "*  b_0 and b_1 are regression coefficients and represent** y-intercept** and **slope of regression** line respectively.  \n",
        "\n",
        "To create our model, we must “learn” or estimate the values of regression coefficients b_0 and b_1. And once we’ve estimated these coefficients, we can use the model to predict responses!\n",
        "\n",
        "\n",
        "\n",
        "In this article, we are going to use the **Least Squares technique**.\n",
        "\n",
        "Now consider:\n",
        "![alt text](https://www.geeksforgeeks.org/wp-content/ql-cache/quicklatex.com-b20bdf42da0d5e26573d27860fd54d00_l3.svg)\n",
        "\n",
        "Here, e_i is **residual error** in ith observation.\n",
        "So, our aim is to **minimize the total residual error**.\n",
        "\n",
        "We define the squared error or cost function, J as:\n",
        "\n",
        "![alt text](https://www.geeksforgeeks.org/wp-content/ql-cache/quicklatex.com-8e37f4d43c5d9cd768deaf4c16930aed_l3.svg)\n",
        "\n",
        "and our task is to find the value of b_0 and b_1 for which J(b_0,b_1) is minimum!\n",
        "\n",
        "Without going into the mathematical details, we present the result here:\n",
        "\n",
        "![alt text](https://www.geeksforgeeks.org/wp-content/ql-cache/quicklatex.com-689beb6deddf15242534a3a2ec70fe45_l3.svg)\n",
        "\n",
        "![alt text](https://www.geeksforgeeks.org/wp-content/ql-cache/quicklatex.com-d09df030f2a2a461490c2e0844082563_l3.svg)\n",
        "\n",
        "where SS_xy is the sum of cross-deviations of y and x:\n",
        "\n",
        "![alt text](https://www.geeksforgeeks.org/wp-content/ql-cache/quicklatex.com-aee9b88c3468a2f559844e79bd003c6d_l3.svg)\n",
        "\n",
        "and SS_xx is the sum of squared deviations of x:\n",
        "\n",
        "![alt text](https://www.geeksforgeeks.org/wp-content/ql-cache/quicklatex.com-bc9f1266652a9a5c4ab1848c47540975_l3.svg)\n",
        "\n",
        "Note: The complete derivation for finding least squares estimates in simple linear regression can be found here.\n",
        "\n",
        "Given below is the python implementation of above technique on our small dataset:\n",
        "\n",
        "\n"
      ]
    },
    {
      "metadata": {
        "id": "i9Fqzo8c9MSz",
        "colab_type": "code",
        "colab": {
          "base_uri": "https://localhost:8080/",
          "height": 411
        },
        "outputId": "f2914f07-2c32-456a-dd2b-ca06174dbfc7"
      },
      "cell_type": "code",
      "source": [
        "import numpy as np \n",
        "import matplotlib.pyplot as plt \n",
        "\n",
        "def estimate_coef(x, y): \n",
        "\t# number of observations/points \n",
        "\tn = np.size(x) \n",
        "\n",
        "\t# mean of x and y vector \n",
        "\tm_x, m_y = np.mean(x), np.mean(y) \n",
        "\n",
        "\t# calculating cross-deviation and deviation about x \n",
        "\tSS_xy = np.sum(y*x - n*m_y*m_x) \n",
        "\tSS_xx = np.sum(x*x - n*m_x*m_x) \n",
        "\n",
        "\t# calculating regression coefficients \n",
        "\tb_1 = SS_xy / SS_xx \n",
        "\tb_0 = m_y - b_1*m_x \n",
        "\n",
        "\treturn(b_0, b_1) \n",
        "\n",
        "def plot_regression_line(x, y, b): \n",
        "\t# plotting the actual points as scatter plot \n",
        "\tplt.scatter(x, y, color = \"m\", \n",
        "\t\t\tmarker = \"o\", s = 30) \n",
        "\n",
        "\t# predicted response vector \n",
        "\ty_pred = b[0] + b[1]*x \n",
        "\n",
        "\t# plotting the regression line \n",
        "\tplt.plot(x, y_pred, color = \"g\") \n",
        "\n",
        "\t# putting labels \n",
        "\tplt.xlabel('x') \n",
        "\tplt.ylabel('y') \n",
        "\n",
        "\t# function to show plot \n",
        "\tplt.show() \n",
        "\n",
        "def main(): \n",
        "\t# observations \n",
        "\tx = np.array([0, 1, 2, 3, 4, 5, 6, 7, 8, 9]) \n",
        "\ty = np.array([1, 3, 2, 5, 7, 8, 8, 9, 10, 12]) \n",
        "\n",
        "\t# estimating coefficients \n",
        "\tb = estimate_coef(x, y) \n",
        "\tprint(\"Estimated coefficients:\\nb_0 = {} \\ \\nb_1 = {}\".format(b[0], b[1])) \n",
        "\n",
        "\t# plotting regression line \n",
        "\tplot_regression_line(x, y, b) \n",
        "\n",
        "if __name__ == \"__main__\": \n",
        "\tmain() \n"
      ],
      "execution_count": 2,
      "outputs": [
        {
          "output_type": "stream",
          "text": [
            "Estimated coefficients:\n",
            "b_0 = -0.05862068965517242 \\ \n",
            "b_1 = 1.457471264367816\n"
          ],
          "name": "stdout"
        },
        {
          "output_type": "display_data",
          "data": {
            "image/png": "[encoded data removed]",
            "text/plain": [
              "<matplotlib.figure.Figure at 0x7f234dd576d8>"
            ]
          },
          "metadata": {
            "tags": []
          }
        }
      ]
    }
  ]
}